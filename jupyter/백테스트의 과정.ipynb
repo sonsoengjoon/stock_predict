{
 "cells": [
  {
   "cell_type": "code",
   "execution_count": 30,
   "id": "aa969200",
   "metadata": {},
   "outputs": [],
   "source": [
    "import Analyzer\n",
    "import matplotlib.pyplot as plt\n",
    "import numpy as np"
   ]
  },
  {
   "cell_type": "code",
   "execution_count": 31,
   "id": "b486b1e2",
   "metadata": {},
   "outputs": [],
   "source": [
    "mk = Analyzer.MarketDB()"
   ]
  },
  {
   "cell_type": "code",
   "execution_count": 56,
   "id": "36488ae9",
   "metadata": {},
   "outputs": [
    {
     "name": "stdout",
     "output_type": "stream",
     "text": [
      "end_date is initialized to '2022-02-02'\n"
     ]
    },
    {
     "data": {
      "text/html": [
       "<div>\n",
       "<style scoped>\n",
       "    .dataframe tbody tr th:only-of-type {\n",
       "        vertical-align: middle;\n",
       "    }\n",
       "\n",
       "    .dataframe tbody tr th {\n",
       "        vertical-align: top;\n",
       "    }\n",
       "\n",
       "    .dataframe thead th {\n",
       "        text-align: right;\n",
       "    }\n",
       "</style>\n",
       "<table border=\"1\" class=\"dataframe\">\n",
       "  <thead>\n",
       "    <tr style=\"text-align: right;\">\n",
       "      <th></th>\n",
       "      <th>code</th>\n",
       "      <th>date</th>\n",
       "      <th>open</th>\n",
       "      <th>high</th>\n",
       "      <th>low</th>\n",
       "      <th>close</th>\n",
       "      <th>diff</th>\n",
       "      <th>volume</th>\n",
       "    </tr>\n",
       "    <tr>\n",
       "      <th>date</th>\n",
       "      <th></th>\n",
       "      <th></th>\n",
       "      <th></th>\n",
       "      <th></th>\n",
       "      <th></th>\n",
       "      <th></th>\n",
       "      <th></th>\n",
       "      <th></th>\n",
       "    </tr>\n",
       "  </thead>\n",
       "  <tbody>\n",
       "    <tr>\n",
       "      <th>2019-01-02</th>\n",
       "      <td>000660</td>\n",
       "      <td>2019-01-02</td>\n",
       "      <td>61300</td>\n",
       "      <td>61400</td>\n",
       "      <td>60000</td>\n",
       "      <td>60600</td>\n",
       "      <td>100</td>\n",
       "      <td>1934295</td>\n",
       "    </tr>\n",
       "    <tr>\n",
       "      <th>2019-01-03</th>\n",
       "      <td>000660</td>\n",
       "      <td>2019-01-03</td>\n",
       "      <td>60200</td>\n",
       "      <td>60300</td>\n",
       "      <td>57500</td>\n",
       "      <td>57700</td>\n",
       "      <td>2900</td>\n",
       "      <td>3337621</td>\n",
       "    </tr>\n",
       "    <tr>\n",
       "      <th>2019-01-04</th>\n",
       "      <td>000660</td>\n",
       "      <td>2019-01-04</td>\n",
       "      <td>57500</td>\n",
       "      <td>58500</td>\n",
       "      <td>56700</td>\n",
       "      <td>58300</td>\n",
       "      <td>600</td>\n",
       "      <td>3388087</td>\n",
       "    </tr>\n",
       "    <tr>\n",
       "      <th>2019-01-07</th>\n",
       "      <td>000660</td>\n",
       "      <td>2019-01-07</td>\n",
       "      <td>59000</td>\n",
       "      <td>59700</td>\n",
       "      <td>58400</td>\n",
       "      <td>58700</td>\n",
       "      <td>400</td>\n",
       "      <td>2273750</td>\n",
       "    </tr>\n",
       "    <tr>\n",
       "      <th>2019-01-08</th>\n",
       "      <td>000660</td>\n",
       "      <td>2019-01-08</td>\n",
       "      <td>57900</td>\n",
       "      <td>60500</td>\n",
       "      <td>57600</td>\n",
       "      <td>59200</td>\n",
       "      <td>500</td>\n",
       "      <td>3062192</td>\n",
       "    </tr>\n",
       "    <tr>\n",
       "      <th>...</th>\n",
       "      <td>...</td>\n",
       "      <td>...</td>\n",
       "      <td>...</td>\n",
       "      <td>...</td>\n",
       "      <td>...</td>\n",
       "      <td>...</td>\n",
       "      <td>...</td>\n",
       "      <td>...</td>\n",
       "    </tr>\n",
       "    <tr>\n",
       "      <th>2022-01-24</th>\n",
       "      <td>000660</td>\n",
       "      <td>2022-01-24</td>\n",
       "      <td>116500</td>\n",
       "      <td>120500</td>\n",
       "      <td>116500</td>\n",
       "      <td>119000</td>\n",
       "      <td>0</td>\n",
       "      <td>4883822</td>\n",
       "    </tr>\n",
       "    <tr>\n",
       "      <th>2022-01-25</th>\n",
       "      <td>000660</td>\n",
       "      <td>2022-01-25</td>\n",
       "      <td>118000</td>\n",
       "      <td>120000</td>\n",
       "      <td>116500</td>\n",
       "      <td>118000</td>\n",
       "      <td>1000</td>\n",
       "      <td>5702595</td>\n",
       "    </tr>\n",
       "    <tr>\n",
       "      <th>2022-01-26</th>\n",
       "      <td>000660</td>\n",
       "      <td>2022-01-26</td>\n",
       "      <td>119000</td>\n",
       "      <td>119500</td>\n",
       "      <td>117500</td>\n",
       "      <td>117500</td>\n",
       "      <td>500</td>\n",
       "      <td>3416240</td>\n",
       "    </tr>\n",
       "    <tr>\n",
       "      <th>2022-01-27</th>\n",
       "      <td>000660</td>\n",
       "      <td>2022-01-27</td>\n",
       "      <td>119500</td>\n",
       "      <td>119500</td>\n",
       "      <td>111000</td>\n",
       "      <td>113500</td>\n",
       "      <td>4000</td>\n",
       "      <td>6679404</td>\n",
       "    </tr>\n",
       "    <tr>\n",
       "      <th>2022-01-28</th>\n",
       "      <td>000660</td>\n",
       "      <td>2022-01-28</td>\n",
       "      <td>115000</td>\n",
       "      <td>121500</td>\n",
       "      <td>114500</td>\n",
       "      <td>120500</td>\n",
       "      <td>7000</td>\n",
       "      <td>4714259</td>\n",
       "    </tr>\n",
       "  </tbody>\n",
       "</table>\n",
       "<p>762 rows × 8 columns</p>\n",
       "</div>"
      ],
      "text/plain": [
       "              code        date    open    high     low   close  diff   volume\n",
       "date                                                                         \n",
       "2019-01-02  000660  2019-01-02   61300   61400   60000   60600   100  1934295\n",
       "2019-01-03  000660  2019-01-03   60200   60300   57500   57700  2900  3337621\n",
       "2019-01-04  000660  2019-01-04   57500   58500   56700   58300   600  3388087\n",
       "2019-01-07  000660  2019-01-07   59000   59700   58400   58700   400  2273750\n",
       "2019-01-08  000660  2019-01-08   57900   60500   57600   59200   500  3062192\n",
       "...            ...         ...     ...     ...     ...     ...   ...      ...\n",
       "2022-01-24  000660  2022-01-24  116500  120500  116500  119000     0  4883822\n",
       "2022-01-25  000660  2022-01-25  118000  120000  116500  118000  1000  5702595\n",
       "2022-01-26  000660  2022-01-26  119000  119500  117500  117500   500  3416240\n",
       "2022-01-27  000660  2022-01-27  119500  119500  111000  113500  4000  6679404\n",
       "2022-01-28  000660  2022-01-28  115000  121500  114500  120500  7000  4714259\n",
       "\n",
       "[762 rows x 8 columns]"
      ]
     },
     "execution_count": 56,
     "metadata": {},
     "output_type": "execute_result"
    }
   ],
   "source": [
    "price_df = mk.get_daily_price('SK하이닉스', '2019-01-01')\n",
    "price_df"
   ]
  },
  {
   "cell_type": "code",
   "execution_count": 57,
   "id": "fdb73287",
   "metadata": {},
   "outputs": [
    {
     "data": {
      "image/png": "[encoded data removed]",
      "text/plain": [
       "<Figure size 432x288 with 1 Axes>"
      ]
     },
     "metadata": {
      "needs_background": "light"
     },
     "output_type": "display_data"
    }
   ],
   "source": [
    "plt.plot(price_df['close'])\n",
    "plt.show()"
   ]
  },
  {
   "cell_type": "code",
   "execution_count": 58,
   "id": "0154e10b",
   "metadata": {},
   "outputs": [],
   "source": [
    "price_df['range'] = (price_df['high'] - price_df['low']) * 0.5\n",
    "price_df['target'] = price_df['open'] + price_df['range'].shift(1)"
   ]
  },
  {
   "cell_type": "code",
   "execution_count": 59,
   "id": "b00890c2",
   "metadata": {},
   "outputs": [],
   "source": [
    "price_df['ror'] = np.where(price_df['high'] > price_df['target'],\n",
    "                          price_df['close'] / price_df['target'],1)"
   ]
  },
  {
   "cell_type": "code",
   "execution_count": 60,
   "id": "4d011064",
   "metadata": {},
   "outputs": [],
   "source": [
    "price_df['total'] = price_df['ror'].cumprod()"
   ]
  },
  {
   "cell_type": "code",
   "execution_count": 61,
   "id": "64fc5d63",
   "metadata": {},
   "outputs": [
    {
     "name": "stdout",
     "output_type": "stream",
     "text": [
      "date\n",
      "2019-01-02    1.000000\n",
      "2019-01-03    1.000000\n",
      "2019-01-04    1.000000\n",
      "2019-01-07    1.000000\n",
      "2019-01-08    1.011102\n",
      "                ...   \n",
      "2022-01-24    1.196024\n",
      "2022-01-25    1.196024\n",
      "2022-01-26    1.196024\n",
      "2022-01-27    1.196024\n",
      "2022-01-28    1.208561\n",
      "Name: total, Length: 762, dtype: float64\n"
     ]
    }
   ],
   "source": [
    "print(price_df['total'])"
   ]
  },
  {
   "cell_type": "code",
   "execution_count": 62,
   "id": "f45f56f4",
   "metadata": {},
   "outputs": [],
   "source": [
    "# 성과 지표 계산 (거래년수, 총 수익)"
   ]
  },
  {
   "cell_type": "code",
   "execution_count": 63,
   "id": "37745bb4",
   "metadata": {},
   "outputs": [],
   "source": [
    "trade_year = int(len(price_df.index)/252)\n",
    "result = round((price_df['total'].iat[-1] / price_df['total'].iat[0] -1) * 100 , 3)"
   ]
  },
  {
   "cell_type": "code",
   "execution_count": 64,
   "id": "551f38a5",
   "metadata": {},
   "outputs": [
    {
     "name": "stdout",
     "output_type": "stream",
     "text": [
      "3 20.856\n"
     ]
    }
   ],
   "source": [
    "print(trade_year, result)"
   ]
  },
  {
   "cell_type": "code",
   "execution_count": 70,
   "id": "b560b1dd",
   "metadata": {},
   "outputs": [],
   "source": [
    "# CAGR 계산\n",
    "\n",
    "total_profit = (price_df['total'].iat[-1] / price_df['total'].iat[0])\n",
    "cagr = round((total_profit ** (1/trade_year)-1) * 100 , 2)\n",
    "\n",
    "#MDD계산\n",
    "arr_v = np.array(price_df['total'])\n",
    "peak_lower = np.argmax(np.maximum.accumulate(arr_v)- arr_v)\n",
    "peak_upper = np.argmax(arr_v[:peak_lower])\n",
    "\n",
    "mdd = round((arr_v[peak_lower] - arr_v[peak_upper]) / arr_v[peak_upper] * 100, 3)"
   ]
  },
  {
   "cell_type": "code",
   "execution_count": 71,
   "id": "703d3039",
   "metadata": {},
   "outputs": [
    {
     "name": "stdout",
     "output_type": "stream",
     "text": [
      "6.52 -20.396\n"
     ]
    }
   ],
   "source": [
    "print(cagr, mdd)"
   ]
  },
  {
   "cell_type": "code",
   "execution_count": 72,
   "id": "01a1efed",
   "metadata": {},
   "outputs": [
    {
     "data": {
      "image/png": "[encoded data removed]",
      "text/plain": [
       "<Figure size 432x288 with 1 Axes>"
      ]
     },
     "metadata": {
      "needs_background": "light"
     },
     "output_type": "display_data"
    }
   ],
   "source": [
    "plt.plot(price_df['total'])\n",
    "plt.show()"
   ]
  },
  {
   "cell_type": "code",
   "execution_count": null,
   "id": "a50a15a4",
   "metadata": {},
   "outputs": [],
   "source": []
  }
 ],
 "metadata": {
  "kernelspec": {
   "display_name": "Python 3 (ipykernel)",
   "language": "python",
   "name": "python3"
  },
  "language_info": {
   "codemirror_mode": {
    "name": "ipython",
    "version": 3
   },
   "file_extension": ".py",
   "mimetype": "text/x-python",
   "name": "python",
   "nbconvert_exporter": "python",
   "pygments_lexer": "ipython3",
   "version": "3.9.7"
  }
 },
 "nbformat": 4,
 "nbformat_minor": 5
}
